{
  "nbformat": 4,
  "nbformat_minor": 0,
  "metadata": {
    "colab": {
      "provenance": []
    },
    "kernelspec": {
      "name": "python3",
      "display_name": "Python 3"
    },
    "language_info": {
      "name": "python"
    }
  },
  "cells": [
    {
      "cell_type": "markdown",
      "source": [],
      "metadata": {
        "id": "mF707UptMdMd"
      }
    },
    {
      "cell_type": "code",
      "source": [
        "import csv\n",
        "import random\n",
        "\n",
        "# Carrega os valores do dataset para serem manipulados\n",
        "dataset = []\n",
        "with open('data.csv') as _file:\n",
        "    data = csv.reader(_file, delimiter=',')\n",
        "    for line in data:\n",
        "        line = [float(elemento) for elemento in line]\n",
        "        dataset.append(line)"
      ],
      "metadata": {
        "id": "z3hP9cpZkonS"
      },
      "execution_count": null,
      "outputs": []
    },
    {
      "cell_type": "code",
      "source": [
        "def treino_teste_split(dataset, porcentagem):\n",
        "    \"\"\"\n",
        "    Separa e monta o conjunto principal\n",
        "    em dois para teste e treino.\n",
        "    \"\"\"\n",
        "    percent = porcentagem*len(dataset) // 100\n",
        "    data_treino = random.sample(dataset, percent)\n",
        "    data_teste = [data for data in dataset if data not in data_treino]\n",
        "\n",
        "    def montar(dataset):\n",
        "        x, y = [], []\n",
        "        for data in dataset:\n",
        "            x.append(data[1:3])\n",
        "            y.append(data[0])\n",
        "        return x, y\n",
        "\n",
        "    x_train, y_train = montar(data_treino)\n",
        "    x_test, y_test = montar(data_teste)\n",
        "    return x_train, y_train, x_test, y_test\n",
        "\n",
        "\n",
        "def sinal(u):\n",
        "    \"\"\" Retorna a classe baseada no valor de u. \"\"\"\n",
        "    return 1 if u >= 0 else -1\n",
        "\n",
        "def ajuste(w, x, d, y):\n",
        "    \"\"\" Define a taxa de aprendizagem e ajusta o valor do w. \"\"\"\n",
        "    taxa_aprendiz = 0.01\n",
        "    return w + taxa_aprendiz * (d - y) * x\n",
        "\n",
        "def perceptron_fit(x, d):\n",
        "    \"\"\" Executa o treinamento da rede \"\"\"\n",
        "    epoca = 0\n",
        "    w = [random.random() for i in range(3)]\n",
        "    print(w)\n",
        "    while True:\n",
        "        erro = False\n",
        "        for i in range(len(x)):\n",
        "            u = sum([w[0]*-1, w[1]*x[i][0], w[2]*x[i][1]])\n",
        "            y = sinal(u)\n",
        "            if y != d[i]:\n",
        "                w[0] = ajuste(w[0], -1, d[i], y)\n",
        "                w[1] = ajuste(w[1], x[i][0], d[i], y)\n",
        "                w[2] = ajuste(w[2], x[i][1], d[i], y)\n",
        "                erro = True\n",
        "        epoca += 1\n",
        "        if erro is False or epoca == 1000:\n",
        "            break\n",
        "    print(epoca)\n",
        "    return w\n"
      ],
      "metadata": {
        "id": "Ww4kxn0hkvsY"
      },
      "execution_count": null,
      "outputs": []
    },
    {
      "cell_type": "code",
      "execution_count": null,
      "metadata": {
        "id": "vvt81cm2KK_S"
      },
      "outputs": [],
      "source": [
        "def perceptron_predict(x_teste, w_ajustado):\n",
        "    \"\"\"\n",
        "    Valida o treino de acordo com o w ajustado\n",
        "    e as variáveis atributo do conjunto de\n",
        "    teste.\n",
        "    \"\"\"\n",
        "    y_predict = []\n",
        "    for i in range(len(x_teste)):\n",
        "        predict = sum([w_ajustado[0]*-1, w_ajustado[1]*x_teste[i][0], w_ajustado[2]*x_teste[i][1]])\n",
        "        y_predict.append(sinal(predict))\n",
        "    return y_predict"
      ]
    },
    {
      "cell_type": "code",
      "source": [
        "def acuracia(y_teste, y_validado):\n",
        "    \"\"\"\n",
        "    Retorna um valor entre 0 e 1\n",
        "    que representa a porcentagem\n",
        "    de acertos da rede.\n",
        "    \"\"\"\n",
        "    total = 0\n",
        "    for i in range(len(y_teste)):\n",
        "        if y_teste[i] == y_validado[i]:\n",
        "            total += 1\n",
        "        else:\n",
        "            pass\n",
        "    return total / len(y_validado)"
      ],
      "metadata": {
        "id": "DBakH75tk2HA"
      },
      "execution_count": null,
      "outputs": []
    },
    {
      "cell_type": "code",
      "source": [
        "# Split Treino e teste\n",
        "x_treino, y_treino, x_teste, y_teste = treino_teste_split(dataset, 80)"
      ],
      "metadata": {
        "id": "BuO6WhPKpCL_"
      },
      "execution_count": null,
      "outputs": []
    },
    {
      "cell_type": "code",
      "source": [
        "# Treinamento\n",
        "w_fit = perceptron_fit(x_treino, y_treino)\n",
        "print(w_fit)"
      ],
      "metadata": {
        "colab": {
          "base_uri": "https://localhost:8080/"
        },
        "id": "hrcT6v2ppJnX",
        "outputId": "67eaa3b8-96df-4f4e-88c4-7077e43dc353"
      },
      "execution_count": null,
      "outputs": [
        {
          "output_type": "stream",
          "name": "stdout",
          "text": [
            "[0.8051399110582856, 0.12375242692272004, 0.8917868450408043]\n",
            "35\n",
            "[-0.4548600889417149, -1.0242275730772812, 0.854256845040806]\n"
          ]
        }
      ]
    },
    {
      "cell_type": "code",
      "source": [
        "# Validação\n",
        "y_validado = perceptron_predict(x_teste, w_fit)\n",
        "print(y_validado)"
      ],
      "metadata": {
        "colab": {
          "base_uri": "https://localhost:8080/"
        },
        "id": "NJrveta3pLaW",
        "outputId": "6618ae8e-323c-4aed-fab9-c6c7f1a87d70"
      },
      "execution_count": null,
      "outputs": [
        {
          "output_type": "stream",
          "name": "stdout",
          "text": [
            "[1, 1, 1, 1, 1, 1, 1, 1, 1, 1, 1, -1, -1, -1, -1, -1, -1, -1, -1, -1]\n"
          ]
        }
      ]
    },
    {
      "cell_type": "code",
      "source": [
        "# Acurácia\n",
        "accuracy = acuracia(y_teste, y_validado)\n",
        "print(accuracy)"
      ],
      "metadata": {
        "colab": {
          "base_uri": "https://localhost:8080/"
        },
        "id": "IUysLdEzpMKW",
        "outputId": "31418e4f-8365-417c-9995-a883c0e37c6e"
      },
      "execution_count": null,
      "outputs": [
        {
          "output_type": "stream",
          "name": "stdout",
          "text": [
            "1.0\n"
          ]
        }
      ]
    }
  ]
}